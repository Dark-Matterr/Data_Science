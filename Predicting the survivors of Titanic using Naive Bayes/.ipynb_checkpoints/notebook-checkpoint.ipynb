{
 "cells": [
  {
   "cell_type": "code",
   "execution_count": 51,
   "id": "a37945f5",
   "metadata": {},
   "outputs": [],
   "source": [
    "# Importing data science libraries\n",
    "import pandas as pd\n",
    "import seaborn as sns\n",
    "import matplotlib.pyplot as plt\n",
    "import numpy as np\n",
    "from sklearn.naive_bayes import GaussianNB\n",
    "from sklearn.model_selection import train_test_split\n",
    "from sklearn.metrics import accuracy_score, recall_score, precision_score"
   ]
  },
  {
   "cell_type": "markdown",
   "id": "130667fa",
   "metadata": {},
   "source": [
    "## Exploratory Data Analysis"
   ]
  },
  {
   "cell_type": "code",
   "execution_count": 2,
   "id": "cc3e59ee",
   "metadata": {},
   "outputs": [
    {
     "data": {
      "text/html": [
       "<div>\n",
       "<style scoped>\n",
       "    .dataframe tbody tr th:only-of-type {\n",
       "        vertical-align: middle;\n",
       "    }\n",
       "\n",
       "    .dataframe tbody tr th {\n",
       "        vertical-align: top;\n",
       "    }\n",
       "\n",
       "    .dataframe thead th {\n",
       "        text-align: right;\n",
       "    }\n",
       "</style>\n",
       "<table border=\"1\" class=\"dataframe\">\n",
       "  <thead>\n",
       "    <tr style=\"text-align: right;\">\n",
       "      <th></th>\n",
       "      <th>PassengerId</th>\n",
       "      <th>Survived</th>\n",
       "      <th>Pclass</th>\n",
       "      <th>Name</th>\n",
       "      <th>Sex</th>\n",
       "      <th>Age</th>\n",
       "      <th>SibSp</th>\n",
       "      <th>Parch</th>\n",
       "      <th>Ticket</th>\n",
       "      <th>Fare</th>\n",
       "      <th>Cabin</th>\n",
       "      <th>Embarked</th>\n",
       "    </tr>\n",
       "  </thead>\n",
       "  <tbody>\n",
       "    <tr>\n",
       "      <th>886</th>\n",
       "      <td>887</td>\n",
       "      <td>0</td>\n",
       "      <td>2</td>\n",
       "      <td>Montvila, Rev. Juozas</td>\n",
       "      <td>male</td>\n",
       "      <td>27.0</td>\n",
       "      <td>0</td>\n",
       "      <td>0</td>\n",
       "      <td>211536</td>\n",
       "      <td>13.00</td>\n",
       "      <td>NaN</td>\n",
       "      <td>S</td>\n",
       "    </tr>\n",
       "    <tr>\n",
       "      <th>887</th>\n",
       "      <td>888</td>\n",
       "      <td>1</td>\n",
       "      <td>1</td>\n",
       "      <td>Graham, Miss. Margaret Edith</td>\n",
       "      <td>female</td>\n",
       "      <td>19.0</td>\n",
       "      <td>0</td>\n",
       "      <td>0</td>\n",
       "      <td>112053</td>\n",
       "      <td>30.00</td>\n",
       "      <td>B42</td>\n",
       "      <td>S</td>\n",
       "    </tr>\n",
       "    <tr>\n",
       "      <th>888</th>\n",
       "      <td>889</td>\n",
       "      <td>0</td>\n",
       "      <td>3</td>\n",
       "      <td>Johnston, Miss. Catherine Helen \"Carrie\"</td>\n",
       "      <td>female</td>\n",
       "      <td>NaN</td>\n",
       "      <td>1</td>\n",
       "      <td>2</td>\n",
       "      <td>W./C. 6607</td>\n",
       "      <td>23.45</td>\n",
       "      <td>NaN</td>\n",
       "      <td>S</td>\n",
       "    </tr>\n",
       "    <tr>\n",
       "      <th>889</th>\n",
       "      <td>890</td>\n",
       "      <td>1</td>\n",
       "      <td>1</td>\n",
       "      <td>Behr, Mr. Karl Howell</td>\n",
       "      <td>male</td>\n",
       "      <td>26.0</td>\n",
       "      <td>0</td>\n",
       "      <td>0</td>\n",
       "      <td>111369</td>\n",
       "      <td>30.00</td>\n",
       "      <td>C148</td>\n",
       "      <td>C</td>\n",
       "    </tr>\n",
       "    <tr>\n",
       "      <th>890</th>\n",
       "      <td>891</td>\n",
       "      <td>0</td>\n",
       "      <td>3</td>\n",
       "      <td>Dooley, Mr. Patrick</td>\n",
       "      <td>male</td>\n",
       "      <td>32.0</td>\n",
       "      <td>0</td>\n",
       "      <td>0</td>\n",
       "      <td>370376</td>\n",
       "      <td>7.75</td>\n",
       "      <td>NaN</td>\n",
       "      <td>Q</td>\n",
       "    </tr>\n",
       "  </tbody>\n",
       "</table>\n",
       "</div>"
      ],
      "text/plain": [
       "     PassengerId  Survived  Pclass                                      Name  \\\n",
       "886          887         0       2                     Montvila, Rev. Juozas   \n",
       "887          888         1       1              Graham, Miss. Margaret Edith   \n",
       "888          889         0       3  Johnston, Miss. Catherine Helen \"Carrie\"   \n",
       "889          890         1       1                     Behr, Mr. Karl Howell   \n",
       "890          891         0       3                       Dooley, Mr. Patrick   \n",
       "\n",
       "        Sex   Age  SibSp  Parch      Ticket   Fare Cabin Embarked  \n",
       "886    male  27.0      0      0      211536  13.00   NaN        S  \n",
       "887  female  19.0      0      0      112053  30.00   B42        S  \n",
       "888  female   NaN      1      2  W./C. 6607  23.45   NaN        S  \n",
       "889    male  26.0      0      0      111369  30.00  C148        C  \n",
       "890    male  32.0      0      0      370376   7.75   NaN        Q  "
      ]
     },
     "execution_count": 2,
     "metadata": {},
     "output_type": "execute_result"
    }
   ],
   "source": [
    "# Read and display the first 5 of the test data\n",
    "dt = pd.read_csv('./data/train.csv')\n",
    "dt.tail()"
   ]
  },
  {
   "cell_type": "code",
   "execution_count": 3,
   "id": "a903f4f2",
   "metadata": {},
   "outputs": [
    {
     "name": "stdout",
     "output_type": "stream",
     "text": [
      "<class 'pandas.core.frame.DataFrame'>\n",
      "RangeIndex: 891 entries, 0 to 890\n",
      "Data columns (total 12 columns):\n",
      " #   Column       Non-Null Count  Dtype  \n",
      "---  ------       --------------  -----  \n",
      " 0   PassengerId  891 non-null    int64  \n",
      " 1   Survived     891 non-null    int64  \n",
      " 2   Pclass       891 non-null    int64  \n",
      " 3   Name         891 non-null    object \n",
      " 4   Sex          891 non-null    object \n",
      " 5   Age          714 non-null    float64\n",
      " 6   SibSp        891 non-null    int64  \n",
      " 7   Parch        891 non-null    int64  \n",
      " 8   Ticket       891 non-null    object \n",
      " 9   Fare         891 non-null    float64\n",
      " 10  Cabin        204 non-null    object \n",
      " 11  Embarked     889 non-null    object \n",
      "dtypes: float64(2), int64(5), object(5)\n",
      "memory usage: 83.7+ KB\n"
     ]
    }
   ],
   "source": [
    "# Data information\n",
    "dt.info()"
   ]
  },
  {
   "cell_type": "code",
   "execution_count": 4,
   "id": "9a650bd0",
   "metadata": {},
   "outputs": [
    {
     "name": "stdout",
     "output_type": "stream",
     "text": [
      "The shape of the data is: (891, 12)\n"
     ]
    }
   ],
   "source": [
    "print(\"The shape of the data is:\", dt.shape)"
   ]
  },
  {
   "cell_type": "code",
   "execution_count": 5,
   "id": "cab21c81",
   "metadata": {},
   "outputs": [
    {
     "data": {
      "text/html": [
       "<div>\n",
       "<style scoped>\n",
       "    .dataframe tbody tr th:only-of-type {\n",
       "        vertical-align: middle;\n",
       "    }\n",
       "\n",
       "    .dataframe tbody tr th {\n",
       "        vertical-align: top;\n",
       "    }\n",
       "\n",
       "    .dataframe thead th {\n",
       "        text-align: right;\n",
       "    }\n",
       "</style>\n",
       "<table border=\"1\" class=\"dataframe\">\n",
       "  <thead>\n",
       "    <tr style=\"text-align: right;\">\n",
       "      <th></th>\n",
       "      <th>PassengerId</th>\n",
       "      <th>Survived</th>\n",
       "      <th>Pclass</th>\n",
       "      <th>Age</th>\n",
       "      <th>SibSp</th>\n",
       "      <th>Parch</th>\n",
       "      <th>Fare</th>\n",
       "    </tr>\n",
       "  </thead>\n",
       "  <tbody>\n",
       "    <tr>\n",
       "      <th>count</th>\n",
       "      <td>891.000000</td>\n",
       "      <td>891.000000</td>\n",
       "      <td>891.000000</td>\n",
       "      <td>714.000000</td>\n",
       "      <td>891.000000</td>\n",
       "      <td>891.000000</td>\n",
       "      <td>891.000000</td>\n",
       "    </tr>\n",
       "    <tr>\n",
       "      <th>mean</th>\n",
       "      <td>446.000000</td>\n",
       "      <td>0.383838</td>\n",
       "      <td>2.308642</td>\n",
       "      <td>29.699118</td>\n",
       "      <td>0.523008</td>\n",
       "      <td>0.381594</td>\n",
       "      <td>32.204208</td>\n",
       "    </tr>\n",
       "    <tr>\n",
       "      <th>std</th>\n",
       "      <td>257.353842</td>\n",
       "      <td>0.486592</td>\n",
       "      <td>0.836071</td>\n",
       "      <td>14.526497</td>\n",
       "      <td>1.102743</td>\n",
       "      <td>0.806057</td>\n",
       "      <td>49.693429</td>\n",
       "    </tr>\n",
       "    <tr>\n",
       "      <th>min</th>\n",
       "      <td>1.000000</td>\n",
       "      <td>0.000000</td>\n",
       "      <td>1.000000</td>\n",
       "      <td>0.420000</td>\n",
       "      <td>0.000000</td>\n",
       "      <td>0.000000</td>\n",
       "      <td>0.000000</td>\n",
       "    </tr>\n",
       "    <tr>\n",
       "      <th>25%</th>\n",
       "      <td>223.500000</td>\n",
       "      <td>0.000000</td>\n",
       "      <td>2.000000</td>\n",
       "      <td>20.125000</td>\n",
       "      <td>0.000000</td>\n",
       "      <td>0.000000</td>\n",
       "      <td>7.910400</td>\n",
       "    </tr>\n",
       "    <tr>\n",
       "      <th>50%</th>\n",
       "      <td>446.000000</td>\n",
       "      <td>0.000000</td>\n",
       "      <td>3.000000</td>\n",
       "      <td>28.000000</td>\n",
       "      <td>0.000000</td>\n",
       "      <td>0.000000</td>\n",
       "      <td>14.454200</td>\n",
       "    </tr>\n",
       "    <tr>\n",
       "      <th>75%</th>\n",
       "      <td>668.500000</td>\n",
       "      <td>1.000000</td>\n",
       "      <td>3.000000</td>\n",
       "      <td>38.000000</td>\n",
       "      <td>1.000000</td>\n",
       "      <td>0.000000</td>\n",
       "      <td>31.000000</td>\n",
       "    </tr>\n",
       "    <tr>\n",
       "      <th>max</th>\n",
       "      <td>891.000000</td>\n",
       "      <td>1.000000</td>\n",
       "      <td>3.000000</td>\n",
       "      <td>80.000000</td>\n",
       "      <td>8.000000</td>\n",
       "      <td>6.000000</td>\n",
       "      <td>512.329200</td>\n",
       "    </tr>\n",
       "  </tbody>\n",
       "</table>\n",
       "</div>"
      ],
      "text/plain": [
       "       PassengerId    Survived      Pclass         Age       SibSp  \\\n",
       "count   891.000000  891.000000  891.000000  714.000000  891.000000   \n",
       "mean    446.000000    0.383838    2.308642   29.699118    0.523008   \n",
       "std     257.353842    0.486592    0.836071   14.526497    1.102743   \n",
       "min       1.000000    0.000000    1.000000    0.420000    0.000000   \n",
       "25%     223.500000    0.000000    2.000000   20.125000    0.000000   \n",
       "50%     446.000000    0.000000    3.000000   28.000000    0.000000   \n",
       "75%     668.500000    1.000000    3.000000   38.000000    1.000000   \n",
       "max     891.000000    1.000000    3.000000   80.000000    8.000000   \n",
       "\n",
       "            Parch        Fare  \n",
       "count  891.000000  891.000000  \n",
       "mean     0.381594   32.204208  \n",
       "std      0.806057   49.693429  \n",
       "min      0.000000    0.000000  \n",
       "25%      0.000000    7.910400  \n",
       "50%      0.000000   14.454200  \n",
       "75%      0.000000   31.000000  \n",
       "max      6.000000  512.329200  "
      ]
     },
     "execution_count": 5,
     "metadata": {},
     "output_type": "execute_result"
    }
   ],
   "source": [
    "dt.describe()"
   ]
  },
  {
   "cell_type": "markdown",
   "id": "f7f3d9f9",
   "metadata": {},
   "source": [
    "### The Probability of Survival given Passenger Class N\n",
    "\n",
    "This table shows the survival rate of each passenger class ticket.\n",
    "\n",
    "Passenger Class | Survival Rate\n",
    "--- | -------\n",
    "Class 1 | 63%\n",
    "Class 2 | 47%\n",
    "Class 3 | 24%\n",
    "\n",
    "#### My Insights:\n",
    "The higher the price of the ticket, the higher the survival. rate"
   ]
  },
  {
   "cell_type": "code",
   "execution_count": 6,
   "id": "ebd0b66b",
   "metadata": {},
   "outputs": [],
   "source": [
    "# P(Survival | Pclass) = The probability of survival given passenger class n\n",
    "pclass_surv = pd.pivot_table(data=dt[['Pclass', 'Survived']], index='Pclass', aggfunc=[np.sum, 'count'])\n",
    "pclass_rate = ((pclass_surv['sum'] / pclass_surv['count'])* 100).reset_index()"
   ]
  },
  {
   "cell_type": "code",
   "execution_count": 7,
   "id": "69a62b81",
   "metadata": {},
   "outputs": [
    {
     "data": {
      "image/png": "[encoded data removed]",
      "text/plain": [
       "<Figure size 864x360 with 1 Axes>"
      ]
     },
     "metadata": {
      "needs_background": "light"
     },
     "output_type": "display_data"
    }
   ],
   "source": [
    "fig = plt.figure(figsize=(12,5))\n",
    "ax = fig.add_axes([0,0,1,1])\n",
    "ax.set_title(\"Survival rate for each Passenger Class\", fontsize=20)\n",
    "sns.barplot(data=pclass_rate, x='Survived', y='Pclass', orient='h');"
   ]
  },
  {
   "cell_type": "markdown",
   "id": "9cf37f75",
   "metadata": {},
   "source": [
    "### Survival in Passenger's Fare\n",
    "\n",
    "#### My Insights:\n",
    "Higher fares gave more evidence for survival rate <br/>\n",
    "\"With great power and money comes with great survival\" - Antigua\n"
   ]
  },
  {
   "cell_type": "code",
   "execution_count": 8,
   "id": "0729becf",
   "metadata": {},
   "outputs": [
    {
     "data": {
      "image/png": "[encoded data removed]",
      "text/plain": [
       "<Figure size 864x360 with 1 Axes>"
      ]
     },
     "metadata": {
      "needs_background": "light"
     },
     "output_type": "display_data"
    }
   ],
   "source": [
    "# With great money comes with great survival\n",
    "# Higher fares gave more evidence for survival rate\n",
    "fig = plt.figure(figsize=(12,5))\n",
    "ax = fig.add_axes([0,0,1,1])\n",
    "ax.set_title(\"Boxplot of Survival in Passenger's Fare\", fontsize=20)\n",
    "sns.boxplot(data=dt, x='Fare', y='Survived', orient='h');"
   ]
  },
  {
   "cell_type": "markdown",
   "id": "479802c1",
   "metadata": {},
   "source": [
    "### Survival in Passenger's Age\n",
    "\n",
    "#### My Insights:\n",
    "The age doesn't seem to be a great feature for passenger's survival"
   ]
  },
  {
   "cell_type": "code",
   "execution_count": 9,
   "id": "25298619",
   "metadata": {},
   "outputs": [
    {
     "data": {
      "image/png": "[encoded data removed]",
      "text/plain": [
       "<Figure size 864x360 with 1 Axes>"
      ]
     },
     "metadata": {
      "needs_background": "light"
     },
     "output_type": "display_data"
    }
   ],
   "source": [
    "# doesn’t seem to be a great predictor of passenger’s survival. \n",
    "fig = plt.figure(figsize=(12,5))\n",
    "ax = fig.add_axes([0,0,1,1])\n",
    "ax.set_title(\"Boxplot of Survival for Passenger's Age\", fontsize=20)\n",
    "sns.boxplot(data=dt, x='Age', y='Survived', orient='h');"
   ]
  },
  {
   "cell_type": "markdown",
   "id": "fd07fd64",
   "metadata": {},
   "source": [
    "### The Probability of Survival given Passenger Sex N\n",
    "\n",
    "This table shows the survival rate for each sex of the passenger aboard\n",
    "\n",
    "Passenger Sex | Survival Rate\n",
    "--- | -------\n",
    "Female | 74%\n",
    "male | 19%\n",
    "\n",
    "\n",
    "#### My Insights:\n",
    "Woman tends to have more survival rate than Male. Sadly, boys tends to save woman than their own life.<br />\n",
    "I feel bad for the Male passengers of the titanic."
   ]
  },
  {
   "cell_type": "code",
   "execution_count": 10,
   "id": "8f70e586",
   "metadata": {},
   "outputs": [],
   "source": [
    "# P(Survival | Sex) = The probability of survival given passenger sex n\n",
    "psex_surv = pd.pivot_table(data=dt[['Sex', 'Survived']], index='Sex', aggfunc=[np.sum, 'count'])\n",
    "psex_rate = ((psex_surv['sum'] / psex_surv['count'])* 100).reset_index()"
   ]
  },
  {
   "cell_type": "code",
   "execution_count": 11,
   "id": "83445145",
   "metadata": {},
   "outputs": [
    {
     "data": {
      "image/png": "[encoded data removed]",
      "text/plain": [
       "<Figure size 864x360 with 1 Axes>"
      ]
     },
     "metadata": {
      "needs_background": "light"
     },
     "output_type": "display_data"
    }
   ],
   "source": [
    "fig = plt.figure(figsize=(12,5))\n",
    "ax = fig.add_axes([0,0,1,1])\n",
    "ax.set_title(\"Survival rate for each Sex\", fontsize=20)\n",
    "sns.barplot(data=psex_rate, x='Survived', y='Sex', orient='h');"
   ]
  },
  {
   "cell_type": "markdown",
   "id": "33d54f1c",
   "metadata": {},
   "source": [
    "### The probability of survival given the number of sibling / spouses and parents / children aboard\n",
    "\n",
    "This table shows the survival percentage of each number of siblings/spouses and parents/children aboard that passengers included aboard\n",
    "\n",
    "\\# of siblings/spouse | Survival Rate | \\# parents/children aboard | Survival Rate |\n",
    "--- | ------- | ---------| ---------- |\n",
    "0 | 34.52% | 0 | 34.37%\n",
    "1 | 53.59% | 1 | 55.08%\n",
    "2 | 46.43% | 2 | 50%\n",
    "3 | 25% | 3 | 60%\n",
    "4 | 16.67% | 4 | 0%\n",
    "5 | 0% | 5 | 20%\n",
    "6 | 0% | 6 | 0%\n",
    "\n",
    "\n",
    "#### My Insights:\n",
    "- The survival rate decreases when the passengers bring more more siblings/spouse aboard (SibSp) <br />\n",
    "- Weird that 0 siblings/spouse tends to have low survival rate than others\n",
    "- Parch is not a good predicator for our ml model because it doesn't give any pattern\n",
    "\n"
   ]
  },
  {
   "cell_type": "code",
   "execution_count": 12,
   "id": "1d48b470",
   "metadata": {},
   "outputs": [],
   "source": [
    "# P(Survived | SibSp) = The probability of survival given passengers number of sibling/spouse n\n",
    "psib_surv = pd.pivot_table(data=dt[['SibSp', 'Survived']], index='SibSp', aggfunc=[np.sum, 'count'])\n",
    "psib_rate = ((psib_surv['sum'] / psib_surv['count'])* 100).reset_index()\n",
    "\n",
    "# P(Survived | Parch) = The probability of survival given passengers number of sparents/children n\n",
    "parch_surv = pd.pivot_table(data=dt[['Parch', 'Survived']], index='Parch', aggfunc=[np.sum, 'count'])\n",
    "parch_rate = ((parch_surv['sum'] / parch_surv['count'])* 100).reset_index()"
   ]
  },
  {
   "cell_type": "code",
   "execution_count": 13,
   "id": "034439ed",
   "metadata": {},
   "outputs": [
    {
     "data": {
      "image/png": "[encoded data removed]",
      "text/plain": [
       "<Figure size 1224x504 with 2 Axes>"
      ]
     },
     "metadata": {
      "needs_background": "light"
     },
     "output_type": "display_data"
    }
   ],
   "source": [
    "fig = plt.figure(figsize=(17,7))\n",
    "fig.suptitle('Model Performance Metrics', fontsize=20)\n",
    "ax = fig.subplots(nrows=1, ncols=2)\n",
    "\n",
    "fig.suptitle(\"Survival Rate of # of siblings/spouse and parents/children aboard\", fontsize=18)\n",
    "\n",
    "# The survival rate decreases when the passengers bring more more siblings/spouse aboard\n",
    "# Weird that 0 siblings/spouse tends to have low survival rate than others\n",
    "ax[0].set_title(\"# of siblings/spouse\", fontsize=15)\n",
    "ax[0].bar(x=psib_rate['SibSp'], height=psib_rate['Survived'])\n",
    "\n",
    "# Not a good predicator for our ml model because it doesn't give any pattern\n",
    "ax[1].set_title(\"# of parents/children\", fontsize=15)\n",
    "ax[1].bar(x=parch_rate['Parch'], height=parch_rate['Survived']);"
   ]
  },
  {
   "cell_type": "markdown",
   "id": "b0acc485",
   "metadata": {},
   "source": [
    "### The probability of survival given Embarked n\n",
    "\n",
    "\n",
    "\n",
    "Port of Embarkation | Survival Rate\n",
    "--- | -------\n",
    "Cherbourg | 55.36%\n",
    "Queenstown | 38.96%\n",
    "Southampton | 33.68%\n",
    "\n",
    "#### My Insights:\n",
    "- Cherbourg is the highest survival rate\n",
    "- Maybe this column is not a good predictor for our ml model"
   ]
  },
  {
   "cell_type": "code",
   "execution_count": 14,
   "id": "adaf50af",
   "metadata": {},
   "outputs": [],
   "source": [
    "# P(Survived | Embarked) = The probability of survival given Embarked n\n",
    "pemba_surv = pd.pivot_table(data=dt[['Embarked', 'Survived']], index='Embarked', aggfunc=[np.sum, 'count'])\n",
    "pemba_rate = ((pemba_surv['sum'] / pemba_surv['count'])* 100).reset_index()"
   ]
  },
  {
   "cell_type": "code",
   "execution_count": 15,
   "id": "1ac9292e",
   "metadata": {},
   "outputs": [
    {
     "data": {
      "image/png": "[encoded data removed]",
      "text/plain": [
       "<Figure size 864x360 with 1 Axes>"
      ]
     },
     "metadata": {
      "needs_background": "light"
     },
     "output_type": "display_data"
    }
   ],
   "source": [
    "# Cherbourg is the highest survival rate\n",
    "# Maybe this columns is not a good predicator for our ml model\n",
    "fig = plt.figure(figsize=(12,5))\n",
    "ax = fig.add_axes([0,0,1,1])\n",
    "ax.set_title(\"Survival rate for each Port of Embarkation\", fontsize=20)\n",
    "sns.barplot(data=pemba_rate, x='Survived', y='Embarked', orient='h');"
   ]
  },
  {
   "cell_type": "markdown",
   "id": "18027998",
   "metadata": {},
   "source": [
    "### The probability of survival given the name title n\n",
    "\n",
    "This is the table about the probability of survival for each name title of every passenger aboard\n",
    "\n",
    "Name Title | Survival Rate\n",
    "--- | -------\n",
    "Mr | 15.67%\n",
    "Mrs | 79.20%\n",
    "Miss | 69.78%\n",
    "Master | 57.50%\n",
    "Don | 0%\n",
    "Rev | 0%\n",
    "Dr | 42.86%\n",
    "Mme | 100%\n",
    "Ms | 100%\n",
    "Major | 50%\n",
    "Lady | 100%\n",
    "Sir | 100%\n",
    "Mlle | 100%\n",
    "Col | 50%\n",
    "Capt | 0%\n",
    "Countess | 100%\n",
    "Jonkheer | 0%\n",
    "\n",
    "#### My Insights:\n",
    "- Having a good name title / profession on aboard benefits for high survival. Maybe, there's a priority happening for emergency exit\n",
    "- This feature is a good predictor for our ml model also"
   ]
  },
  {
   "cell_type": "code",
   "execution_count": 16,
   "id": "c9760d2b",
   "metadata": {},
   "outputs": [
    {
     "data": {
      "text/plain": [
       "array(['Mr', 'Mrs', 'Miss', 'Master', 'Don', 'Rev', 'Dr', 'Mme', 'Ms',\n",
       "       'Major', 'Lady', 'Sir', 'Mlle', 'Col', 'Capt', 'Countess',\n",
       "       'Jonkheer'], dtype=object)"
      ]
     },
     "execution_count": 16,
     "metadata": {},
     "output_type": "execute_result"
    }
   ],
   "source": [
    "# Use regex to extract the name title from the Name feature\n",
    "dt['NameTitle'] = dt['Name'].str.extract(' ([A-Za-z]+)\\.', expand=False)\n",
    "dt['NameTitle'].unique()"
   ]
  },
  {
   "cell_type": "code",
   "execution_count": 17,
   "id": "55a82458",
   "metadata": {},
   "outputs": [],
   "source": [
    "# P(Survived | Name Title) = The probability of survival given name title n\n",
    "pnamet_surv = pd.pivot_table(data=dt[['NameTitle', 'Survived']], index='NameTitle', aggfunc=[np.sum, 'count'])\n",
    "pnamet_rate = ((pnamet_surv['sum'] / pnamet_surv['count'])* 100).reset_index().sort_values(by='Survived')"
   ]
  },
  {
   "cell_type": "code",
   "execution_count": 18,
   "id": "cd4d6b05",
   "metadata": {},
   "outputs": [
    {
     "data": {
      "image/png": "[encoded data removed]",
      "text/plain": [
       "<Figure size 864x360 with 1 Axes>"
      ]
     },
     "metadata": {
      "needs_background": "light"
     },
     "output_type": "display_data"
    }
   ],
   "source": [
    "fig = plt.figure(figsize=(12,5))\n",
    "ax = fig.add_axes([0,0,1,1])\n",
    "ax.set_title(\"Survival rate for each passenger name title\", fontsize=20)\n",
    "sns.barplot(data=pnamet_rate, x='NameTitle', y='Survived');"
   ]
  },
  {
   "cell_type": "markdown",
   "id": "2da9c1b9",
   "metadata": {},
   "source": [
    "### Features Correlation\n",
    "\n",
    "#### My Insights:\n",
    "- **Pclass** (-0.34 Negative Correlation) and **Fare** (0.26 Positive Correlation) tends to have higher correlation for our label\n",
    "- **Pclass** and **Fare** are highly related"
   ]
  },
  {
   "cell_type": "code",
   "execution_count": 19,
   "id": "b875edb0",
   "metadata": {},
   "outputs": [
    {
     "data": {
      "image/png": "[encoded data removed]",
      "text/plain": [
       "<Figure size 864x360 with 2 Axes>"
      ]
     },
     "metadata": {
      "needs_background": "light"
     },
     "output_type": "display_data"
    }
   ],
   "source": [
    "fig = plt.figure(figsize=(12,5))\n",
    "ax = fig.add_axes([0,0,1,1])\n",
    "sns.heatmap(dt.corr(), linewidth=0.7, annot=True, cmap='viridis');"
   ]
  },
  {
   "cell_type": "markdown",
   "id": "a34e8912",
   "metadata": {},
   "source": [
    "## Feature Engineering and Data Preparation"
   ]
  },
  {
   "cell_type": "code",
   "execution_count": 42,
   "id": "a01b6ede",
   "metadata": {},
   "outputs": [
    {
     "data": {
      "text/plain": [
       "PassengerId     0.000000\n",
       "Survived        0.000000\n",
       "Pclass          0.000000\n",
       "Name            0.000000\n",
       "Sex             0.000000\n",
       "Age            19.865320\n",
       "SibSp           0.000000\n",
       "Parch           0.000000\n",
       "Ticket          0.000000\n",
       "Fare            0.000000\n",
       "Cabin          77.104377\n",
       "Embarked        0.224467\n",
       "NameTitle       0.000000\n",
       "dtype: float64"
      ]
     },
     "execution_count": 42,
     "metadata": {},
     "output_type": "execute_result"
    }
   ],
   "source": [
    "# Drop the Cabin feature because 77% of its data is NaN\n",
    "# Age stay as is because only 19.87% of its data is NaN\n",
    "# 0.2% of data from Embarked feature is NaN\n",
    "\n",
    "features = dt\n",
    "features.isna().sum() / features.shape[0] * 100"
   ]
  },
  {
   "cell_type": "code",
   "execution_count": 43,
   "id": "18adcc6b",
   "metadata": {},
   "outputs": [
    {
     "data": {
      "text/html": [
       "<div>\n",
       "<style scoped>\n",
       "    .dataframe tbody tr th:only-of-type {\n",
       "        vertical-align: middle;\n",
       "    }\n",
       "\n",
       "    .dataframe tbody tr th {\n",
       "        vertical-align: top;\n",
       "    }\n",
       "\n",
       "    .dataframe thead th {\n",
       "        text-align: right;\n",
       "    }\n",
       "</style>\n",
       "<table border=\"1\" class=\"dataframe\">\n",
       "  <thead>\n",
       "    <tr style=\"text-align: right;\">\n",
       "      <th></th>\n",
       "      <th>Survived</th>\n",
       "      <th>Sex</th>\n",
       "      <th>SibSp</th>\n",
       "      <th>Fare</th>\n",
       "      <th>Embarked</th>\n",
       "      <th>NameTitle</th>\n",
       "    </tr>\n",
       "  </thead>\n",
       "  <tbody>\n",
       "    <tr>\n",
       "      <th>0</th>\n",
       "      <td>0</td>\n",
       "      <td>male</td>\n",
       "      <td>1</td>\n",
       "      <td>7.2500</td>\n",
       "      <td>S</td>\n",
       "      <td>Mr</td>\n",
       "    </tr>\n",
       "    <tr>\n",
       "      <th>1</th>\n",
       "      <td>1</td>\n",
       "      <td>female</td>\n",
       "      <td>1</td>\n",
       "      <td>71.2833</td>\n",
       "      <td>C</td>\n",
       "      <td>Mrs</td>\n",
       "    </tr>\n",
       "    <tr>\n",
       "      <th>2</th>\n",
       "      <td>1</td>\n",
       "      <td>female</td>\n",
       "      <td>0</td>\n",
       "      <td>7.9250</td>\n",
       "      <td>S</td>\n",
       "      <td>Miss</td>\n",
       "    </tr>\n",
       "    <tr>\n",
       "      <th>3</th>\n",
       "      <td>1</td>\n",
       "      <td>female</td>\n",
       "      <td>1</td>\n",
       "      <td>53.1000</td>\n",
       "      <td>S</td>\n",
       "      <td>Mrs</td>\n",
       "    </tr>\n",
       "    <tr>\n",
       "      <th>4</th>\n",
       "      <td>0</td>\n",
       "      <td>male</td>\n",
       "      <td>0</td>\n",
       "      <td>8.0500</td>\n",
       "      <td>S</td>\n",
       "      <td>Mr</td>\n",
       "    </tr>\n",
       "  </tbody>\n",
       "</table>\n",
       "</div>"
      ],
      "text/plain": [
       "   Survived     Sex  SibSp     Fare Embarked NameTitle\n",
       "0         0    male      1   7.2500        S        Mr\n",
       "1         1  female      1  71.2833        C       Mrs\n",
       "2         1  female      0   7.9250        S      Miss\n",
       "3         1  female      1  53.1000        S       Mrs\n",
       "4         0    male      0   8.0500        S        Mr"
      ]
     },
     "execution_count": 43,
     "metadata": {},
     "output_type": "execute_result"
    }
   ],
   "source": [
    "# remove unnecessary feature in our data\n",
    "features = features.drop(labels=['PassengerId', 'Cabin', 'Name', 'Age', 'Parch', 'Ticket', 'Pclass'], axis= 1)\n",
    "features.head()"
   ]
  },
  {
   "cell_type": "code",
   "execution_count": 44,
   "id": "34d16c5e",
   "metadata": {},
   "outputs": [
    {
     "data": {
      "text/plain": [
       "0    S\n",
       "dtype: object"
      ]
     },
     "execution_count": 44,
     "metadata": {},
     "output_type": "execute_result"
    }
   ],
   "source": [
    "# Filling up the 0.2% NaN values from Embarked by most frequent data\n",
    "features['Embarked'].mode()"
   ]
  },
  {
   "cell_type": "code",
   "execution_count": 45,
   "id": "9da8aee3",
   "metadata": {},
   "outputs": [
    {
     "data": {
      "text/plain": [
       "Survived     0\n",
       "Sex          0\n",
       "SibSp        0\n",
       "Fare         0\n",
       "Embarked     0\n",
       "NameTitle    0\n",
       "dtype: int64"
      ]
     },
     "execution_count": 45,
     "metadata": {},
     "output_type": "execute_result"
    }
   ],
   "source": [
    "features.loc[features['Embarked'].isna(), ['Embarked']] = 'S'\n",
    "features.isnull().sum()"
   ]
  },
  {
   "cell_type": "code",
   "execution_count": 46,
   "id": "9b257db7",
   "metadata": {},
   "outputs": [
    {
     "data": {
      "text/html": [
       "<div>\n",
       "<style scoped>\n",
       "    .dataframe tbody tr th:only-of-type {\n",
       "        vertical-align: middle;\n",
       "    }\n",
       "\n",
       "    .dataframe tbody tr th {\n",
       "        vertical-align: top;\n",
       "    }\n",
       "\n",
       "    .dataframe thead th {\n",
       "        text-align: right;\n",
       "    }\n",
       "</style>\n",
       "<table border=\"1\" class=\"dataframe\">\n",
       "  <thead>\n",
       "    <tr style=\"text-align: right;\">\n",
       "      <th></th>\n",
       "      <th>Survived</th>\n",
       "      <th>Sex</th>\n",
       "      <th>SibSp</th>\n",
       "      <th>Fare</th>\n",
       "      <th>Embarked</th>\n",
       "      <th>NameTitle</th>\n",
       "    </tr>\n",
       "  </thead>\n",
       "  <tbody>\n",
       "    <tr>\n",
       "      <th>0</th>\n",
       "      <td>0</td>\n",
       "      <td>0</td>\n",
       "      <td>1</td>\n",
       "      <td>7.2500</td>\n",
       "      <td>S</td>\n",
       "      <td>Mr</td>\n",
       "    </tr>\n",
       "    <tr>\n",
       "      <th>1</th>\n",
       "      <td>1</td>\n",
       "      <td>1</td>\n",
       "      <td>1</td>\n",
       "      <td>71.2833</td>\n",
       "      <td>C</td>\n",
       "      <td>Mrs</td>\n",
       "    </tr>\n",
       "    <tr>\n",
       "      <th>2</th>\n",
       "      <td>1</td>\n",
       "      <td>1</td>\n",
       "      <td>0</td>\n",
       "      <td>7.9250</td>\n",
       "      <td>S</td>\n",
       "      <td>Miss</td>\n",
       "    </tr>\n",
       "    <tr>\n",
       "      <th>3</th>\n",
       "      <td>1</td>\n",
       "      <td>1</td>\n",
       "      <td>1</td>\n",
       "      <td>53.1000</td>\n",
       "      <td>S</td>\n",
       "      <td>Mrs</td>\n",
       "    </tr>\n",
       "    <tr>\n",
       "      <th>4</th>\n",
       "      <td>0</td>\n",
       "      <td>0</td>\n",
       "      <td>0</td>\n",
       "      <td>8.0500</td>\n",
       "      <td>S</td>\n",
       "      <td>Mr</td>\n",
       "    </tr>\n",
       "  </tbody>\n",
       "</table>\n",
       "</div>"
      ],
      "text/plain": [
       "   Survived  Sex  SibSp     Fare Embarked NameTitle\n",
       "0         0    0      1   7.2500        S        Mr\n",
       "1         1    1      1  71.2833        C       Mrs\n",
       "2         1    1      0   7.9250        S      Miss\n",
       "3         1    1      1  53.1000        S       Mrs\n",
       "4         0    0      0   8.0500        S        Mr"
      ]
     },
     "execution_count": 46,
     "metadata": {},
     "output_type": "execute_result"
    }
   ],
   "source": [
    "# One hot enconding the categorical Sex column of the Passenger\n",
    "# 0 = Male and 1 = Female\n",
    "features['Sex'] = features['Sex'].replace(to_replace=['male', 'female'], value=[0, 1])\n",
    "features.head()"
   ]
  },
  {
   "cell_type": "code",
   "execution_count": 47,
   "id": "629a12ad",
   "metadata": {},
   "outputs": [
    {
     "data": {
      "text/html": [
       "<div>\n",
       "<style scoped>\n",
       "    .dataframe tbody tr th:only-of-type {\n",
       "        vertical-align: middle;\n",
       "    }\n",
       "\n",
       "    .dataframe tbody tr th {\n",
       "        vertical-align: top;\n",
       "    }\n",
       "\n",
       "    .dataframe thead th {\n",
       "        text-align: right;\n",
       "    }\n",
       "</style>\n",
       "<table border=\"1\" class=\"dataframe\">\n",
       "  <thead>\n",
       "    <tr style=\"text-align: right;\">\n",
       "      <th></th>\n",
       "      <th>Survived</th>\n",
       "      <th>Sex</th>\n",
       "      <th>SibSp</th>\n",
       "      <th>Fare</th>\n",
       "      <th>Embarked</th>\n",
       "      <th>NameTitle</th>\n",
       "    </tr>\n",
       "  </thead>\n",
       "  <tbody>\n",
       "    <tr>\n",
       "      <th>0</th>\n",
       "      <td>0</td>\n",
       "      <td>0</td>\n",
       "      <td>1</td>\n",
       "      <td>7.2500</td>\n",
       "      <td>0</td>\n",
       "      <td>Mr</td>\n",
       "    </tr>\n",
       "    <tr>\n",
       "      <th>1</th>\n",
       "      <td>1</td>\n",
       "      <td>1</td>\n",
       "      <td>1</td>\n",
       "      <td>71.2833</td>\n",
       "      <td>1</td>\n",
       "      <td>Mrs</td>\n",
       "    </tr>\n",
       "    <tr>\n",
       "      <th>2</th>\n",
       "      <td>1</td>\n",
       "      <td>1</td>\n",
       "      <td>0</td>\n",
       "      <td>7.9250</td>\n",
       "      <td>0</td>\n",
       "      <td>Miss</td>\n",
       "    </tr>\n",
       "    <tr>\n",
       "      <th>3</th>\n",
       "      <td>1</td>\n",
       "      <td>1</td>\n",
       "      <td>1</td>\n",
       "      <td>53.1000</td>\n",
       "      <td>0</td>\n",
       "      <td>Mrs</td>\n",
       "    </tr>\n",
       "    <tr>\n",
       "      <th>4</th>\n",
       "      <td>0</td>\n",
       "      <td>0</td>\n",
       "      <td>0</td>\n",
       "      <td>8.0500</td>\n",
       "      <td>0</td>\n",
       "      <td>Mr</td>\n",
       "    </tr>\n",
       "  </tbody>\n",
       "</table>\n",
       "</div>"
      ],
      "text/plain": [
       "   Survived  Sex  SibSp     Fare  Embarked NameTitle\n",
       "0         0    0      1   7.2500         0        Mr\n",
       "1         1    1      1  71.2833         1       Mrs\n",
       "2         1    1      0   7.9250         0      Miss\n",
       "3         1    1      1  53.1000         0       Mrs\n",
       "4         0    0      0   8.0500         0        Mr"
      ]
     },
     "execution_count": 47,
     "metadata": {},
     "output_type": "execute_result"
    }
   ],
   "source": [
    "# Integer encoding S = 0, C = 1 and Q = 2\n",
    "embarked_dict = {'S' : 0, 'C' : 1, 'Q' : 2}\n",
    "features['Embarked'] = features['Embarked'].map(embarked_dict)\n",
    "features.head()"
   ]
  },
  {
   "cell_type": "code",
   "execution_count": 48,
   "id": "f1145abc",
   "metadata": {},
   "outputs": [
    {
     "data": {
      "text/plain": [
       "array([ 0,  1,  2,  3,  4,  5,  6,  7,  8,  9, 10, 11, 12, 13, 14, 15, 16],\n",
       "      dtype=int64)"
      ]
     },
     "execution_count": 48,
     "metadata": {},
     "output_type": "execute_result"
    }
   ],
   "source": [
    "# Integer Encoding the NameTitle Feature\n",
    "title_dict = {'Mr' : 0, 'Mrs' : 1, 'Miss' : 2, 'Master' : 3, 'Don' : 4, 'Rev' : 5, 'Dr' : 6, 'Mme' : 7,\\\n",
    "              'Ms' : 8, 'Major' : 9, 'Lady' : 10, 'Sir' : 11, 'Mlle' : 12, 'Col' : 13, 'Capt' : 14, 'Countess' : 15,\\\n",
    "              'Jonkheer' : 16}\n",
    "\n",
    "features['NameTitle'] = features['NameTitle'].map(title_dict)\n",
    "features['NameTitle'].unique()"
   ]
  },
  {
   "cell_type": "code",
   "execution_count": 49,
   "id": "8b054dfa",
   "metadata": {},
   "outputs": [
    {
     "data": {
      "text/html": [
       "<div>\n",
       "<style scoped>\n",
       "    .dataframe tbody tr th:only-of-type {\n",
       "        vertical-align: middle;\n",
       "    }\n",
       "\n",
       "    .dataframe tbody tr th {\n",
       "        vertical-align: top;\n",
       "    }\n",
       "\n",
       "    .dataframe thead th {\n",
       "        text-align: right;\n",
       "    }\n",
       "</style>\n",
       "<table border=\"1\" class=\"dataframe\">\n",
       "  <thead>\n",
       "    <tr style=\"text-align: right;\">\n",
       "      <th></th>\n",
       "      <th>Survived</th>\n",
       "      <th>Sex</th>\n",
       "      <th>SibSp</th>\n",
       "      <th>Fare</th>\n",
       "      <th>Embarked</th>\n",
       "      <th>NameTitle</th>\n",
       "    </tr>\n",
       "  </thead>\n",
       "  <tbody>\n",
       "    <tr>\n",
       "      <th>0</th>\n",
       "      <td>0</td>\n",
       "      <td>0</td>\n",
       "      <td>1</td>\n",
       "      <td>7.2500</td>\n",
       "      <td>0</td>\n",
       "      <td>0</td>\n",
       "    </tr>\n",
       "    <tr>\n",
       "      <th>1</th>\n",
       "      <td>1</td>\n",
       "      <td>1</td>\n",
       "      <td>1</td>\n",
       "      <td>71.2833</td>\n",
       "      <td>1</td>\n",
       "      <td>1</td>\n",
       "    </tr>\n",
       "    <tr>\n",
       "      <th>2</th>\n",
       "      <td>1</td>\n",
       "      <td>1</td>\n",
       "      <td>0</td>\n",
       "      <td>7.9250</td>\n",
       "      <td>0</td>\n",
       "      <td>2</td>\n",
       "    </tr>\n",
       "    <tr>\n",
       "      <th>3</th>\n",
       "      <td>1</td>\n",
       "      <td>1</td>\n",
       "      <td>1</td>\n",
       "      <td>53.1000</td>\n",
       "      <td>0</td>\n",
       "      <td>1</td>\n",
       "    </tr>\n",
       "    <tr>\n",
       "      <th>4</th>\n",
       "      <td>0</td>\n",
       "      <td>0</td>\n",
       "      <td>0</td>\n",
       "      <td>8.0500</td>\n",
       "      <td>0</td>\n",
       "      <td>0</td>\n",
       "    </tr>\n",
       "  </tbody>\n",
       "</table>\n",
       "</div>"
      ],
      "text/plain": [
       "   Survived  Sex  SibSp     Fare  Embarked  NameTitle\n",
       "0         0    0      1   7.2500         0          0\n",
       "1         1    1      1  71.2833         1          1\n",
       "2         1    1      0   7.9250         0          2\n",
       "3         1    1      1  53.1000         0          1\n",
       "4         0    0      0   8.0500         0          0"
      ]
     },
     "execution_count": 49,
     "metadata": {},
     "output_type": "execute_result"
    }
   ],
   "source": [
    "features.head()"
   ]
  },
  {
   "cell_type": "code",
   "execution_count": 53,
   "id": "bc6574d3",
   "metadata": {},
   "outputs": [],
   "source": [
    "label = features['Survived']\n",
    "features = features.drop(labels='Survived', axis=1)"
   ]
  },
  {
   "cell_type": "markdown",
   "id": "3b4afcdc",
   "metadata": {},
   "source": [
    "## Training The Model"
   ]
  },
  {
   "cell_type": "code",
   "execution_count": 137,
   "id": "fb48ef41",
   "metadata": {},
   "outputs": [],
   "source": [
    "# Splitting the data for training set and testing set\n",
    "X_train, X_test, Y_train, Y_test = train_test_split(features, label, test_size=0.3, random_state=12)"
   ]
  },
  {
   "cell_type": "code",
   "execution_count": 138,
   "id": "5b0dd85f",
   "metadata": {},
   "outputs": [],
   "source": [
    "# Initialize Gaussian Naive Bayes\n",
    "model = GaussianNB()"
   ]
  },
  {
   "cell_type": "code",
   "execution_count": 141,
   "id": "f35cf04f",
   "metadata": {},
   "outputs": [],
   "source": [
    "# Fit the model\n",
    "model.fit(X_train, Y_train);"
   ]
  },
  {
   "cell_type": "code",
   "execution_count": 157,
   "id": "3028d8d5",
   "metadata": {},
   "outputs": [
    {
     "data": {
      "text/html": [
       "<div>\n",
       "<style scoped>\n",
       "    .dataframe tbody tr th:only-of-type {\n",
       "        vertical-align: middle;\n",
       "    }\n",
       "\n",
       "    .dataframe tbody tr th {\n",
       "        vertical-align: top;\n",
       "    }\n",
       "\n",
       "    .dataframe thead th {\n",
       "        text-align: right;\n",
       "    }\n",
       "</style>\n",
       "<table border=\"1\" class=\"dataframe\">\n",
       "  <thead>\n",
       "    <tr style=\"text-align: right;\">\n",
       "      <th></th>\n",
       "      <th>Sex</th>\n",
       "      <th>SibSp</th>\n",
       "      <th>Fare</th>\n",
       "      <th>Embarked</th>\n",
       "      <th>NameTitle</th>\n",
       "      <th>True_value</th>\n",
       "      <th>Model_estimate</th>\n",
       "    </tr>\n",
       "  </thead>\n",
       "  <tbody>\n",
       "    <tr>\n",
       "      <th>456</th>\n",
       "      <td>0</td>\n",
       "      <td>0</td>\n",
       "      <td>26.5500</td>\n",
       "      <td>0</td>\n",
       "      <td>0</td>\n",
       "      <td>0</td>\n",
       "      <td>0</td>\n",
       "    </tr>\n",
       "    <tr>\n",
       "      <th>351</th>\n",
       "      <td>0</td>\n",
       "      <td>0</td>\n",
       "      <td>35.0000</td>\n",
       "      <td>0</td>\n",
       "      <td>0</td>\n",
       "      <td>0</td>\n",
       "      <td>0</td>\n",
       "    </tr>\n",
       "    <tr>\n",
       "      <th>173</th>\n",
       "      <td>0</td>\n",
       "      <td>0</td>\n",
       "      <td>7.9250</td>\n",
       "      <td>0</td>\n",
       "      <td>0</td>\n",
       "      <td>0</td>\n",
       "      <td>0</td>\n",
       "    </tr>\n",
       "    <tr>\n",
       "      <th>671</th>\n",
       "      <td>0</td>\n",
       "      <td>1</td>\n",
       "      <td>52.0000</td>\n",
       "      <td>0</td>\n",
       "      <td>0</td>\n",
       "      <td>0</td>\n",
       "      <td>0</td>\n",
       "    </tr>\n",
       "    <tr>\n",
       "      <th>836</th>\n",
       "      <td>0</td>\n",
       "      <td>0</td>\n",
       "      <td>8.6625</td>\n",
       "      <td>0</td>\n",
       "      <td>0</td>\n",
       "      <td>0</td>\n",
       "      <td>0</td>\n",
       "    </tr>\n",
       "    <tr>\n",
       "      <th>...</th>\n",
       "      <td>...</td>\n",
       "      <td>...</td>\n",
       "      <td>...</td>\n",
       "      <td>...</td>\n",
       "      <td>...</td>\n",
       "      <td>...</td>\n",
       "      <td>...</td>\n",
       "    </tr>\n",
       "    <tr>\n",
       "      <th>860</th>\n",
       "      <td>0</td>\n",
       "      <td>2</td>\n",
       "      <td>14.1083</td>\n",
       "      <td>0</td>\n",
       "      <td>0</td>\n",
       "      <td>0</td>\n",
       "      <td>0</td>\n",
       "    </tr>\n",
       "    <tr>\n",
       "      <th>69</th>\n",
       "      <td>0</td>\n",
       "      <td>2</td>\n",
       "      <td>8.6625</td>\n",
       "      <td>0</td>\n",
       "      <td>0</td>\n",
       "      <td>0</td>\n",
       "      <td>0</td>\n",
       "    </tr>\n",
       "    <tr>\n",
       "      <th>647</th>\n",
       "      <td>0</td>\n",
       "      <td>0</td>\n",
       "      <td>35.5000</td>\n",
       "      <td>1</td>\n",
       "      <td>13</td>\n",
       "      <td>1</td>\n",
       "      <td>1</td>\n",
       "    </tr>\n",
       "    <tr>\n",
       "      <th>872</th>\n",
       "      <td>0</td>\n",
       "      <td>0</td>\n",
       "      <td>5.0000</td>\n",
       "      <td>0</td>\n",
       "      <td>0</td>\n",
       "      <td>0</td>\n",
       "      <td>0</td>\n",
       "    </tr>\n",
       "    <tr>\n",
       "      <th>669</th>\n",
       "      <td>1</td>\n",
       "      <td>1</td>\n",
       "      <td>52.0000</td>\n",
       "      <td>0</td>\n",
       "      <td>1</td>\n",
       "      <td>1</td>\n",
       "      <td>1</td>\n",
       "    </tr>\n",
       "  </tbody>\n",
       "</table>\n",
       "<p>268 rows × 7 columns</p>\n",
       "</div>"
      ],
      "text/plain": [
       "     Sex  SibSp     Fare  Embarked  NameTitle  True_value  Model_estimate\n",
       "456    0      0  26.5500         0          0           0               0\n",
       "351    0      0  35.0000         0          0           0               0\n",
       "173    0      0   7.9250         0          0           0               0\n",
       "671    0      1  52.0000         0          0           0               0\n",
       "836    0      0   8.6625         0          0           0               0\n",
       "..   ...    ...      ...       ...        ...         ...             ...\n",
       "860    0      2  14.1083         0          0           0               0\n",
       "69     0      2   8.6625         0          0           0               0\n",
       "647    0      0  35.5000         1         13           1               1\n",
       "872    0      0   5.0000         0          0           0               0\n",
       "669    1      1  52.0000         0          1           1               1\n",
       "\n",
       "[268 rows x 7 columns]"
      ]
     },
     "execution_count": 157,
     "metadata": {},
     "output_type": "execute_result"
    }
   ],
   "source": [
    "# Predict the test set\n",
    "test_df = X_test.copy()\n",
    "test_df['True_value'] = Y_test.copy()\n",
    "test_df['Model_estimate'] = model.predict(X_test)\n",
    "test_df"
   ]
  },
  {
   "cell_type": "markdown",
   "id": "d3535b46",
   "metadata": {},
   "source": [
    "## Model Metrics"
   ]
  },
  {
   "cell_type": "code",
   "execution_count": 82,
   "id": "5222de3b",
   "metadata": {},
   "outputs": [],
   "source": [
    "def metrics(estimator, train):\n",
    "    X_train = train[0]\n",
    "    Y_train = train[1]\n",
    "    \n",
    "    train_predictions = model.predict(X_train)\n",
    "    train_accuracy = accuracy_score(train_predictions, Y_train)\n",
    "    train_recall = recall_score(train_predictions, Y_train)\n",
    "    train_precision = precision_score(train_predictions, Y_train)\n",
    "\n",
    "    print('My Model metrics')\n",
    "    print('Accuracy  Train: %.2f' % train_accuracy)\n",
    "    print('Recall    Train: %.2f' % train_recall)\n",
    "    print('Precision Train: %.2f' % train_precision)"
   ]
  },
  {
   "cell_type": "code",
   "execution_count": 106,
   "id": "1fa80435",
   "metadata": {},
   "outputs": [
    {
     "name": "stdout",
     "output_type": "stream",
     "text": [
      "Metrics of the Model\n",
      "My Model metrics\n",
      "Accuracy  Train: 0.79\n",
      "Recall    Train: 0.73\n",
      "Precision Train: 0.71\n"
     ]
    }
   ],
   "source": [
    "print('Metrics of the Model')\n",
    "metrics(model, (X_train, Y_train))"
   ]
  }
 ],
 "metadata": {
  "kernelspec": {
   "display_name": "Python 3 (ipykernel)",
   "language": "python",
   "name": "python3"
  },
  "language_info": {
   "codemirror_mode": {
    "name": "ipython",
    "version": 3
   },
   "file_extension": ".py",
   "mimetype": "text/x-python",
   "name": "python",
   "nbconvert_exporter": "python",
   "pygments_lexer": "ipython3",
   "version": "3.7.11"
  }
 },
 "nbformat": 4,
 "nbformat_minor": 5
}
