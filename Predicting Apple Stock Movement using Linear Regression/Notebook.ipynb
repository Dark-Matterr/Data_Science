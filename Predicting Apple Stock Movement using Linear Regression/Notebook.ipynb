{
 "cells": [
  {
   "cell_type": "markdown",
   "id": "3b1477ac",
   "metadata": {},
   "source": [
    "# Predicting Stock Market Using Simple Linear Regression\n",
    "## By Dominic Antigua"
   ]
  },
  {
   "cell_type": "code",
   "execution_count": 1,
   "id": "0743e77c",
   "metadata": {},
   "outputs": [],
   "source": [
    "# Importing the Data Science python libraries\n",
    "import numpy as np\n",
    "import pandas as pd\n",
    "import matplotlib.pyplot as plt\n",
    "import seaborn as sns\n",
    "from sklearn.linear_model import LinearRegression\n",
    "from sklearn import metrics"
   ]
  },
  {
   "cell_type": "markdown",
   "id": "ddcab9e5",
   "metadata": {},
   "source": [
    "## Exploratory Data Analysis"
   ]
  },
  {
   "cell_type": "code",
   "execution_count": 2,
   "id": "71b22e71",
   "metadata": {},
   "outputs": [
    {
     "data": {
      "text/html": [
       "<div>\n",
       "<style scoped>\n",
       "    .dataframe tbody tr th:only-of-type {\n",
       "        vertical-align: middle;\n",
       "    }\n",
       "\n",
       "    .dataframe tbody tr th {\n",
       "        vertical-align: top;\n",
       "    }\n",
       "\n",
       "    .dataframe thead th {\n",
       "        text-align: right;\n",
       "    }\n",
       "</style>\n",
       "<table border=\"1\" class=\"dataframe\">\n",
       "  <thead>\n",
       "    <tr style=\"text-align: right;\">\n",
       "      <th></th>\n",
       "      <th>Date</th>\n",
       "      <th>Open</th>\n",
       "      <th>High</th>\n",
       "      <th>Low</th>\n",
       "      <th>Close</th>\n",
       "      <th>Adj Close</th>\n",
       "      <th>Volume</th>\n",
       "    </tr>\n",
       "  </thead>\n",
       "  <tbody>\n",
       "    <tr>\n",
       "      <th>0</th>\n",
       "      <td>1980-12-12</td>\n",
       "      <td>0.513393</td>\n",
       "      <td>0.515625</td>\n",
       "      <td>0.513393</td>\n",
       "      <td>0.513393</td>\n",
       "      <td>0.406782</td>\n",
       "      <td>117258400</td>\n",
       "    </tr>\n",
       "    <tr>\n",
       "      <th>1</th>\n",
       "      <td>1980-12-15</td>\n",
       "      <td>0.488839</td>\n",
       "      <td>0.488839</td>\n",
       "      <td>0.486607</td>\n",
       "      <td>0.486607</td>\n",
       "      <td>0.385558</td>\n",
       "      <td>43971200</td>\n",
       "    </tr>\n",
       "    <tr>\n",
       "      <th>2</th>\n",
       "      <td>1980-12-16</td>\n",
       "      <td>0.453125</td>\n",
       "      <td>0.453125</td>\n",
       "      <td>0.450893</td>\n",
       "      <td>0.450893</td>\n",
       "      <td>0.357260</td>\n",
       "      <td>26432000</td>\n",
       "    </tr>\n",
       "    <tr>\n",
       "      <th>3</th>\n",
       "      <td>1980-12-17</td>\n",
       "      <td>0.462054</td>\n",
       "      <td>0.464286</td>\n",
       "      <td>0.462054</td>\n",
       "      <td>0.462054</td>\n",
       "      <td>0.366103</td>\n",
       "      <td>21610400</td>\n",
       "    </tr>\n",
       "    <tr>\n",
       "      <th>4</th>\n",
       "      <td>1980-12-18</td>\n",
       "      <td>0.475446</td>\n",
       "      <td>0.477679</td>\n",
       "      <td>0.475446</td>\n",
       "      <td>0.475446</td>\n",
       "      <td>0.376715</td>\n",
       "      <td>18362400</td>\n",
       "    </tr>\n",
       "  </tbody>\n",
       "</table>\n",
       "</div>"
      ],
      "text/plain": [
       "         Date      Open      High       Low     Close  Adj Close     Volume\n",
       "0  1980-12-12  0.513393  0.515625  0.513393  0.513393   0.406782  117258400\n",
       "1  1980-12-15  0.488839  0.488839  0.486607  0.486607   0.385558   43971200\n",
       "2  1980-12-16  0.453125  0.453125  0.450893  0.450893   0.357260   26432000\n",
       "3  1980-12-17  0.462054  0.464286  0.462054  0.462054   0.366103   21610400\n",
       "4  1980-12-18  0.475446  0.477679  0.475446  0.475446   0.376715   18362400"
      ]
     },
     "execution_count": 2,
     "metadata": {},
     "output_type": "execute_result"
    }
   ],
   "source": [
    "# Read the Apple Inc. Stock data \n",
    "df = pd.read_csv(\"./data/Appleinc_stock.csv\")\n",
    "df.head()"
   ]
  },
  {
   "cell_type": "code",
   "execution_count": 3,
   "id": "b9d00f0c",
   "metadata": {},
   "outputs": [
    {
     "name": "stdout",
     "output_type": "stream",
     "text": [
      "<class 'pandas.core.frame.DataFrame'>\n",
      "RangeIndex: 9909 entries, 0 to 9908\n",
      "Data columns (total 7 columns):\n",
      " #   Column     Non-Null Count  Dtype  \n",
      "---  ------     --------------  -----  \n",
      " 0   Date       9909 non-null   object \n",
      " 1   Open       9909 non-null   float64\n",
      " 2   High       9909 non-null   float64\n",
      " 3   Low        9909 non-null   float64\n",
      " 4   Close      9909 non-null   float64\n",
      " 5   Adj Close  9909 non-null   float64\n",
      " 6   Volume     9909 non-null   int64  \n",
      "dtypes: float64(5), int64(1), object(1)\n",
      "memory usage: 542.0+ KB\n"
     ]
    }
   ],
   "source": [
    "# Information about the dataset\n",
    "df.info()"
   ]
  },
  {
   "cell_type": "code",
   "execution_count": 4,
   "id": "dece99c0",
   "metadata": {},
   "outputs": [
    {
     "data": {
      "text/html": [
       "<div>\n",
       "<style scoped>\n",
       "    .dataframe tbody tr th:only-of-type {\n",
       "        vertical-align: middle;\n",
       "    }\n",
       "\n",
       "    .dataframe tbody tr th {\n",
       "        vertical-align: top;\n",
       "    }\n",
       "\n",
       "    .dataframe thead th {\n",
       "        text-align: right;\n",
       "    }\n",
       "</style>\n",
       "<table border=\"1\" class=\"dataframe\">\n",
       "  <thead>\n",
       "    <tr style=\"text-align: right;\">\n",
       "      <th></th>\n",
       "      <th>Open</th>\n",
       "      <th>High</th>\n",
       "      <th>Low</th>\n",
       "      <th>Close</th>\n",
       "      <th>Adj Close</th>\n",
       "      <th>Volume</th>\n",
       "    </tr>\n",
       "  </thead>\n",
       "  <tbody>\n",
       "    <tr>\n",
       "      <th>count</th>\n",
       "      <td>9909.000000</td>\n",
       "      <td>9909.000000</td>\n",
       "      <td>9909.000000</td>\n",
       "      <td>9909.000000</td>\n",
       "      <td>9909.000000</td>\n",
       "      <td>9.909000e+03</td>\n",
       "    </tr>\n",
       "    <tr>\n",
       "      <th>mean</th>\n",
       "      <td>32.606849</td>\n",
       "      <td>32.936079</td>\n",
       "      <td>32.277560</td>\n",
       "      <td>32.618030</td>\n",
       "      <td>30.576570</td>\n",
       "      <td>8.582916e+07</td>\n",
       "    </tr>\n",
       "    <tr>\n",
       "      <th>std</th>\n",
       "      <td>58.415759</td>\n",
       "      <td>59.001576</td>\n",
       "      <td>57.883037</td>\n",
       "      <td>58.471899</td>\n",
       "      <td>56.746275</td>\n",
       "      <td>8.597195e+07</td>\n",
       "    </tr>\n",
       "    <tr>\n",
       "      <th>min</th>\n",
       "      <td>0.198661</td>\n",
       "      <td>0.198661</td>\n",
       "      <td>0.196429</td>\n",
       "      <td>0.196429</td>\n",
       "      <td>0.155638</td>\n",
       "      <td>3.472000e+05</td>\n",
       "    </tr>\n",
       "    <tr>\n",
       "      <th>25%</th>\n",
       "      <td>1.071429</td>\n",
       "      <td>1.089286</td>\n",
       "      <td>1.048571</td>\n",
       "      <td>1.071429</td>\n",
       "      <td>0.917643</td>\n",
       "      <td>3.304230e+07</td>\n",
       "    </tr>\n",
       "    <tr>\n",
       "      <th>50%</th>\n",
       "      <td>1.729286</td>\n",
       "      <td>1.758929</td>\n",
       "      <td>1.696429</td>\n",
       "      <td>1.732143</td>\n",
       "      <td>1.466154</td>\n",
       "      <td>5.766490e+07</td>\n",
       "    </tr>\n",
       "    <tr>\n",
       "      <th>75%</th>\n",
       "      <td>35.799999</td>\n",
       "      <td>36.265713</td>\n",
       "      <td>35.328571</td>\n",
       "      <td>35.761429</td>\n",
       "      <td>31.042374</td>\n",
       "      <td>1.069992e+08</td>\n",
       "    </tr>\n",
       "    <tr>\n",
       "      <th>max</th>\n",
       "      <td>324.739990</td>\n",
       "      <td>327.850006</td>\n",
       "      <td>323.350006</td>\n",
       "      <td>327.200012</td>\n",
       "      <td>327.200012</td>\n",
       "      <td>1.855410e+09</td>\n",
       "    </tr>\n",
       "  </tbody>\n",
       "</table>\n",
       "</div>"
      ],
      "text/plain": [
       "              Open         High          Low        Close    Adj Close  \\\n",
       "count  9909.000000  9909.000000  9909.000000  9909.000000  9909.000000   \n",
       "mean     32.606849    32.936079    32.277560    32.618030    30.576570   \n",
       "std      58.415759    59.001576    57.883037    58.471899    56.746275   \n",
       "min       0.198661     0.198661     0.196429     0.196429     0.155638   \n",
       "25%       1.071429     1.089286     1.048571     1.071429     0.917643   \n",
       "50%       1.729286     1.758929     1.696429     1.732143     1.466154   \n",
       "75%      35.799999    36.265713    35.328571    35.761429    31.042374   \n",
       "max     324.739990   327.850006   323.350006   327.200012   327.200012   \n",
       "\n",
       "             Volume  \n",
       "count  9.909000e+03  \n",
       "mean   8.582916e+07  \n",
       "std    8.597195e+07  \n",
       "min    3.472000e+05  \n",
       "25%    3.304230e+07  \n",
       "50%    5.766490e+07  \n",
       "75%    1.069992e+08  \n",
       "max    1.855410e+09  "
      ]
     },
     "execution_count": 4,
     "metadata": {},
     "output_type": "execute_result"
    }
   ],
   "source": [
    "# Statistical summary of the dataset\n",
    "df.describe()"
   ]
  },
  {
   "cell_type": "code",
   "execution_count": 5,
   "id": "0869688e",
   "metadata": {},
   "outputs": [
    {
     "data": {
      "text/plain": [
       "Date         0\n",
       "Open         0\n",
       "High         0\n",
       "Low          0\n",
       "Close        0\n",
       "Adj Close    0\n",
       "Volume       0\n",
       "dtype: int64"
      ]
     },
     "execution_count": 5,
     "metadata": {},
     "output_type": "execute_result"
    }
   ],
   "source": [
    "# Checks if there's null value in the dataset\n",
    "df.isna().sum()"
   ]
  },
  {
   "cell_type": "code",
   "execution_count": 6,
   "id": "b73cc6be",
   "metadata": {},
   "outputs": [],
   "source": [
    "# Convert Date to Datetime object\n",
    "df['Date'] = pd.to_datetime(df['Date'])"
   ]
  },
  {
   "cell_type": "markdown",
   "id": "9321eafe",
   "metadata": {},
   "source": [
    "### Closing price between 1990 and 2020 (April. 1)\n",
    "\n",
    "#### My Insights:\n",
    "- Time goes by, the stock movement of the Apple Inc. is increasing\n",
    "- I conclude that there's a trend between Close and Date"
   ]
  },
  {
   "cell_type": "code",
   "execution_count": 7,
   "id": "7463e14e",
   "metadata": {},
   "outputs": [
    {
     "data": {
      "image/png": "[encoded data removed]",
      "text/plain": [
       "<Figure size 864x432 with 1 Axes>"
      ]
     },
     "metadata": {
      "needs_background": "light"
     },
     "output_type": "display_data"
    }
   ],
   "source": [
    "# Create line plot to see trends\n",
    "fig = plt.figure(figsize=(12,6))\n",
    "ax = fig.add_axes([0,0,1,1])\n",
    "ax.set_title(\"Close Price Between 1990 and 2020 (April. 1)\", fontsize=20)\n",
    "sns.lineplot(data=df, x='Date', y='Close');"
   ]
  },
  {
   "cell_type": "markdown",
   "id": "2d26140a",
   "metadata": {},
   "source": [
    "### Zooming Out The Close stock price to 2019 and 2020 (April. 1)\n",
    "\n",
    "#### My Insights:\n",
    "- To make more precise and accurate our model, we will zoom out the data from 2019"
   ]
  },
  {
   "cell_type": "code",
   "execution_count": 8,
   "id": "26e395e5",
   "metadata": {},
   "outputs": [],
   "source": [
    "# Get only the data from 2019 to the rest\n",
    "df = df[(df['Date'].dt.year >= 2019)]"
   ]
  },
  {
   "cell_type": "code",
   "execution_count": 9,
   "id": "89ca804e",
   "metadata": {},
   "outputs": [
    {
     "data": {
      "text/html": [
       "<div>\n",
       "<style scoped>\n",
       "    .dataframe tbody tr th:only-of-type {\n",
       "        vertical-align: middle;\n",
       "    }\n",
       "\n",
       "    .dataframe tbody tr th {\n",
       "        vertical-align: top;\n",
       "    }\n",
       "\n",
       "    .dataframe thead th {\n",
       "        text-align: right;\n",
       "    }\n",
       "</style>\n",
       "<table border=\"1\" class=\"dataframe\">\n",
       "  <thead>\n",
       "    <tr style=\"text-align: right;\">\n",
       "      <th></th>\n",
       "      <th>Date</th>\n",
       "      <th>Open</th>\n",
       "      <th>High</th>\n",
       "      <th>Low</th>\n",
       "      <th>Close</th>\n",
       "      <th>Adj Close</th>\n",
       "      <th>Volume</th>\n",
       "      <th>Day</th>\n",
       "    </tr>\n",
       "  </thead>\n",
       "  <tbody>\n",
       "    <tr>\n",
       "      <th>9594</th>\n",
       "      <td>2019-01-02</td>\n",
       "      <td>154.889999</td>\n",
       "      <td>158.850006</td>\n",
       "      <td>154.229996</td>\n",
       "      <td>157.919998</td>\n",
       "      <td>155.214005</td>\n",
       "      <td>37039700</td>\n",
       "      <td>0</td>\n",
       "    </tr>\n",
       "    <tr>\n",
       "      <th>9595</th>\n",
       "      <td>2019-01-03</td>\n",
       "      <td>143.979996</td>\n",
       "      <td>145.720001</td>\n",
       "      <td>142.000000</td>\n",
       "      <td>142.190002</td>\n",
       "      <td>139.753540</td>\n",
       "      <td>91312200</td>\n",
       "      <td>1</td>\n",
       "    </tr>\n",
       "    <tr>\n",
       "      <th>9596</th>\n",
       "      <td>2019-01-04</td>\n",
       "      <td>144.529999</td>\n",
       "      <td>148.550003</td>\n",
       "      <td>143.800003</td>\n",
       "      <td>148.259995</td>\n",
       "      <td>145.719513</td>\n",
       "      <td>58607100</td>\n",
       "      <td>2</td>\n",
       "    </tr>\n",
       "    <tr>\n",
       "      <th>9597</th>\n",
       "      <td>2019-01-07</td>\n",
       "      <td>148.699997</td>\n",
       "      <td>148.830002</td>\n",
       "      <td>145.899994</td>\n",
       "      <td>147.929993</td>\n",
       "      <td>145.395203</td>\n",
       "      <td>54777800</td>\n",
       "      <td>5</td>\n",
       "    </tr>\n",
       "    <tr>\n",
       "      <th>9598</th>\n",
       "      <td>2019-01-08</td>\n",
       "      <td>149.559998</td>\n",
       "      <td>151.820007</td>\n",
       "      <td>148.520004</td>\n",
       "      <td>150.750000</td>\n",
       "      <td>148.166870</td>\n",
       "      <td>41025300</td>\n",
       "      <td>6</td>\n",
       "    </tr>\n",
       "  </tbody>\n",
       "</table>\n",
       "</div>"
      ],
      "text/plain": [
       "           Date        Open        High         Low       Close   Adj Close  \\\n",
       "9594 2019-01-02  154.889999  158.850006  154.229996  157.919998  155.214005   \n",
       "9595 2019-01-03  143.979996  145.720001  142.000000  142.190002  139.753540   \n",
       "9596 2019-01-04  144.529999  148.550003  143.800003  148.259995  145.719513   \n",
       "9597 2019-01-07  148.699997  148.830002  145.899994  147.929993  145.395203   \n",
       "9598 2019-01-08  149.559998  151.820007  148.520004  150.750000  148.166870   \n",
       "\n",
       "        Volume  Day  \n",
       "9594  37039700    0  \n",
       "9595  91312200    1  \n",
       "9596  58607100    2  \n",
       "9597  54777800    5  \n",
       "9598  41025300    6  "
      ]
     },
     "execution_count": 9,
     "metadata": {},
     "output_type": "execute_result"
    }
   ],
   "source": [
    "# Create Days column that counts how many days \n",
    "df['Day'] = df['Date'].sub(pd.Timestamp(df['Date'].min())).dt.days\n",
    "df.head()"
   ]
  },
  {
   "cell_type": "code",
   "execution_count": 10,
   "id": "72be03d3",
   "metadata": {},
   "outputs": [
    {
     "data": {
      "image/png": "[encoded data removed]",
      "text/plain": [
       "<Figure size 864x432 with 1 Axes>"
      ]
     },
     "metadata": {
      "needs_background": "light"
     },
     "output_type": "display_data"
    }
   ],
   "source": [
    "# Plotting the 2019 datapoints\n",
    "fig = plt.figure(figsize=(12,6))\n",
    "ax = fig.add_axes([0,0,1,1])\n",
    "ax.set_title(\"Scatter Plot of Stock Close Price in Days of 2019 to 2020 (April)\", fontsize=20)\n",
    "sns.scatterplot(data=df, x='Day', y='Close', color='red');"
   ]
  },
  {
   "cell_type": "code",
   "execution_count": 11,
   "id": "beee2f1c",
   "metadata": {},
   "outputs": [
    {
     "data": {
      "image/png": "[encoded data removed]",
      "text/plain": [
       "<Figure size 907.2x504 with 1 Axes>"
      ]
     },
     "metadata": {
      "needs_background": "light"
     },
     "output_type": "display_data"
    }
   ],
   "source": [
    "# Distribution plot of Stock Close data\n",
    "sns.displot(data=df, x='Close', bins=20, kde=True, height=7, aspect=1.8, color='orange');"
   ]
  },
  {
   "cell_type": "markdown",
   "id": "166c17de",
   "metadata": {},
   "source": [
    "## Training The Linear Regression Model"
   ]
  },
  {
   "cell_type": "code",
   "execution_count": 12,
   "id": "4aeaac27",
   "metadata": {},
   "outputs": [],
   "source": [
    "# Getting the Input and Label for our model\n",
    "feature = df[['Day']]\n",
    "label = df[['Close']]"
   ]
  },
  {
   "cell_type": "code",
   "execution_count": 13,
   "id": "57918980",
   "metadata": {},
   "outputs": [],
   "source": [
    "# Initializae Linear Regression\n",
    "model = LinearRegression()"
   ]
  },
  {
   "cell_type": "code",
   "execution_count": 14,
   "id": "531f8b78",
   "metadata": {},
   "outputs": [
    {
     "data": {
      "text/plain": [
       "LinearRegression()"
      ]
     },
     "execution_count": 14,
     "metadata": {},
     "output_type": "execute_result"
    }
   ],
   "source": [
    "# Fit the data in Linear Regression\n",
    "model.fit(feature, label)"
   ]
  },
  {
   "cell_type": "code",
   "execution_count": 15,
   "id": "34ecc9bb",
   "metadata": {},
   "outputs": [
    {
     "name": "stdout",
     "output_type": "stream",
     "text": [
      "Y-intercept: 150.68\n",
      "Slope: 0.33\n",
      "-----------------------------\n",
      "Equation: y = 150.68 + 0.33x\n"
     ]
    }
   ],
   "source": [
    "# The slope and y-intercept of the LR equation\n",
    "m = round(model.coef_[-1][-1], 2)\n",
    "b = round(model.intercept_[-1], 2)\n",
    "print(\"Y-intercept:\", b)\n",
    "print(\"Slope:\", m)\n",
    "print(\"-----------------------------\\nEquation: y = \"+ str(b) +\" + \"+ str(m)+\"x\")"
   ]
  },
  {
   "cell_type": "code",
   "execution_count": 16,
   "id": "78501086",
   "metadata": {},
   "outputs": [
    {
     "data": {
      "image/png": "[encoded data removed]",
      "text/plain": [
       "<Figure size 864x432 with 1 Axes>"
      ]
     },
     "metadata": {
      "needs_background": "light"
     },
     "output_type": "display_data"
    }
   ],
   "source": [
    "# Plotting the linear regression model fit in the data points\n",
    "fig = plt.figure(figsize=(12,6))\n",
    "ax = fig.add_axes([0,0,1,1])\n",
    "ax.set_title(\"Best Linear Model that fits to the Stock Data points\", fontsize=20)\n",
    "ax.scatter(feature, label)\n",
    "ax.plot(feature, model.predict(feature), color='r');"
   ]
  },
  {
   "cell_type": "code",
   "execution_count": 17,
   "id": "975b484f",
   "metadata": {},
   "outputs": [
    {
     "data": {
      "text/html": [
       "<div>\n",
       "<style scoped>\n",
       "    .dataframe tbody tr th:only-of-type {\n",
       "        vertical-align: middle;\n",
       "    }\n",
       "\n",
       "    .dataframe tbody tr th {\n",
       "        vertical-align: top;\n",
       "    }\n",
       "\n",
       "    .dataframe thead th {\n",
       "        text-align: right;\n",
       "    }\n",
       "</style>\n",
       "<table border=\"1\" class=\"dataframe\">\n",
       "  <thead>\n",
       "    <tr style=\"text-align: right;\">\n",
       "      <th></th>\n",
       "      <th>Actual</th>\n",
       "      <th>Predicted</th>\n",
       "    </tr>\n",
       "    <tr>\n",
       "      <th>Day</th>\n",
       "      <th></th>\n",
       "      <th></th>\n",
       "    </tr>\n",
       "  </thead>\n",
       "  <tbody>\n",
       "    <tr>\n",
       "      <th>449</th>\n",
       "      <td>258.440002</td>\n",
       "      <td>298.069391</td>\n",
       "    </tr>\n",
       "    <tr>\n",
       "      <th>450</th>\n",
       "      <td>247.740005</td>\n",
       "      <td>298.397657</td>\n",
       "    </tr>\n",
       "    <tr>\n",
       "      <th>453</th>\n",
       "      <td>254.809998</td>\n",
       "      <td>299.382453</td>\n",
       "    </tr>\n",
       "    <tr>\n",
       "      <th>454</th>\n",
       "      <td>254.289993</td>\n",
       "      <td>299.710719</td>\n",
       "    </tr>\n",
       "    <tr>\n",
       "      <th>455</th>\n",
       "      <td>240.910004</td>\n",
       "      <td>300.038984</td>\n",
       "    </tr>\n",
       "  </tbody>\n",
       "</table>\n",
       "</div>"
      ],
      "text/plain": [
       "         Actual   Predicted\n",
       "Day                        \n",
       "449  258.440002  298.069391\n",
       "450  247.740005  298.397657\n",
       "453  254.809998  299.382453\n",
       "454  254.289993  299.710719\n",
       "455  240.910004  300.038984"
      ]
     },
     "execution_count": 17,
     "metadata": {},
     "output_type": "execute_result"
    }
   ],
   "source": [
    "# Predict using the LR model\n",
    "model_df = feature.copy()\n",
    "model_df['Actual'] = label.copy()\n",
    "model_df['Predicted'] = model.predict(feature)\n",
    "model_df = model_df.set_index(keys= \"Day\")\n",
    "model_df.tail()"
   ]
  },
  {
   "cell_type": "markdown",
   "id": "49068e6e",
   "metadata": {},
   "source": [
    "## Evaluation"
   ]
  },
  {
   "cell_type": "code",
   "execution_count": 18,
   "id": "1fbc2590",
   "metadata": {},
   "outputs": [
    {
     "name": "stdout",
     "output_type": "stream",
     "text": [
      "Mean Absolute Error: 15.891694423032327\n",
      "Mean Squared Error: 415.99176851248086\n",
      "Root Mean Squared Error: 20.39587626243307\n"
     ]
    }
   ],
   "source": [
    "# Errors between predicted value and true value\n",
    "prediction = model.predict(feature)\n",
    "print('Mean Absolute Error:', metrics.mean_absolute_error(label, prediction))\n",
    "print('Mean Squared Error:', metrics.mean_squared_error(label, prediction))\n",
    "print('Root Mean Squared Error:', np.sqrt(metrics.mean_squared_error(label, prediction)))"
   ]
  },
  {
   "cell_type": "markdown",
   "id": "7a6164f3",
   "metadata": {},
   "source": [
    "## Forecasting: Apple Inc. stock movement in the next seven days.\n",
    "\n",
    "This is my prediction on the stock market movement in the next seven days of Apple Inc."
   ]
  },
  {
   "cell_type": "code",
   "execution_count": 19,
   "id": "2a50710c",
   "metadata": {
    "scrolled": true
   },
   "outputs": [],
   "source": [
    "# Predict the 7 days\n",
    "forecast = pd.DataFrame({\"Day\":[], \"Prediction\":[]})\n",
    "max_day = feature.max()[0]\n",
    "for i in range(1, 8):\n",
    "    future_day = max_day+i\n",
    "    future_pred = model.predict([[future_day]]).ravel()[0]\n",
    "    forecast = forecast.append(pd.DataFrame({\"Day\": future_day, \"Prediction\":[future_pred]}), ignore_index=True)\n",
    "\n",
    "forecast['Day'] = forecast['Day'].astype(int)\n",
    "forecast = forecast.set_index(keys= \"Day\")"
   ]
  },
  {
   "cell_type": "code",
   "execution_count": 20,
   "id": "284f61f8",
   "metadata": {},
   "outputs": [
    {
     "data": {
      "text/html": [
       "<div>\n",
       "<style scoped>\n",
       "    .dataframe tbody tr th:only-of-type {\n",
       "        vertical-align: middle;\n",
       "    }\n",
       "\n",
       "    .dataframe tbody tr th {\n",
       "        vertical-align: top;\n",
       "    }\n",
       "\n",
       "    .dataframe thead th {\n",
       "        text-align: right;\n",
       "    }\n",
       "</style>\n",
       "<table border=\"1\" class=\"dataframe\">\n",
       "  <thead>\n",
       "    <tr style=\"text-align: right;\">\n",
       "      <th></th>\n",
       "      <th>Prediction</th>\n",
       "    </tr>\n",
       "    <tr>\n",
       "      <th>Day</th>\n",
       "      <th></th>\n",
       "    </tr>\n",
       "  </thead>\n",
       "  <tbody>\n",
       "    <tr>\n",
       "      <th>456</th>\n",
       "      <td>300.367250</td>\n",
       "    </tr>\n",
       "    <tr>\n",
       "      <th>457</th>\n",
       "      <td>300.695515</td>\n",
       "    </tr>\n",
       "    <tr>\n",
       "      <th>458</th>\n",
       "      <td>301.023781</td>\n",
       "    </tr>\n",
       "    <tr>\n",
       "      <th>459</th>\n",
       "      <td>301.352046</td>\n",
       "    </tr>\n",
       "    <tr>\n",
       "      <th>460</th>\n",
       "      <td>301.680312</td>\n",
       "    </tr>\n",
       "    <tr>\n",
       "      <th>461</th>\n",
       "      <td>302.008577</td>\n",
       "    </tr>\n",
       "    <tr>\n",
       "      <th>462</th>\n",
       "      <td>302.336843</td>\n",
       "    </tr>\n",
       "  </tbody>\n",
       "</table>\n",
       "</div>"
      ],
      "text/plain": [
       "     Prediction\n",
       "Day            \n",
       "456  300.367250\n",
       "457  300.695515\n",
       "458  301.023781\n",
       "459  301.352046\n",
       "460  301.680312\n",
       "461  302.008577\n",
       "462  302.336843"
      ]
     },
     "execution_count": 20,
     "metadata": {},
     "output_type": "execute_result"
    }
   ],
   "source": [
    "# This is the 7 days stock movement forecast of the Apple Inc.\n",
    "forecast"
   ]
  }
 ],
 "metadata": {
  "kernelspec": {
   "display_name": "Python 3 (ipykernel)",
   "language": "python",
   "name": "python3"
  },
  "language_info": {
   "codemirror_mode": {
    "name": "ipython",
    "version": 3
   },
   "file_extension": ".py",
   "mimetype": "text/x-python",
   "name": "python",
   "nbconvert_exporter": "python",
   "pygments_lexer": "ipython3",
   "version": "3.7.11"
  }
 },
 "nbformat": 4,
 "nbformat_minor": 5
}
